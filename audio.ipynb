{
 "cells": [
  {
   "cell_type": "code",
   "execution_count": 3,
   "metadata": {},
   "outputs": [],
   "source": [
    "# !python -m venv venv\n",
    "# !pip install -r requirements.txt\n",
    "# pip install torch==1.12.1+cu113 torchvision==0.13.1+cu113 torchaudio==0.12.1 --extra-index-url https://download.pytorch.org/whl/cu113"
   ]
  },
  {
   "cell_type": "code",
   "execution_count": 4,
   "metadata": {},
   "outputs": [],
   "source": [
    "import os\n",
    "# Create the directories if they don't exist\n",
    "output_audio_dir = \"./audios/\"\n",
    "if not os.path.exists(output_audio_dir):\n",
    "    os.makedirs(output_audio_dir)\n"
   ]
  },
  {
   "cell_type": "code",
   "execution_count": 5,
   "metadata": {},
   "outputs": [
    {
     "name": "stderr",
     "output_type": "stream",
     "text": [
      "  0%|          | 0/44 [00:00<?, ?it/s]"
     ]
    },
    {
     "name": "stdout",
     "output_type": "stream",
     "text": [
      "Download successful\n"
     ]
    },
    {
     "name": "stderr",
     "output_type": "stream",
     "text": [
      "\n"
     ]
    }
   ],
   "source": [
    "# Code to download the video\n",
    "from pytube import YouTube\n",
    "from tqdm import tqdm  \n",
    "\n",
    "def download_video(url, output_path):\n",
    "    '''\n",
    "    This function is used to download the video from the youtube.\n",
    "    \n",
    "    Parameters:\n",
    "    url (str): The url of the video that will be downloaded\n",
    "    output_path (str): The path where the video will be saved\n",
    "    \n",
    "    Returns:\n",
    "    None\n",
    "    '''\n",
    "    try:\n",
    "        audiofilename = \"audio.mp3\"\n",
    "        yt = YouTube(url) # Create a YouTube object\n",
    "        stream =  yt.streams.filter(only_audio=True).first() # Get the highest resolution stream\n",
    "        tqdm(stream.download(output_path=output_path, filename=audiofilename)) # Download the stream\n",
    "        print(\"Download successful\") \n",
    "    except Exception as e:\n",
    "        print(f\"Failed to download: {e}\")\n",
    "\n",
    "vid_to_download = input(\"Enter the url of the video that you want to download: \")\n",
    "\n",
    "output_path_video = \"./audios/\" # This is the path where the video will be saved\n",
    "\n",
    "download_video(vid_to_download, output_path_video) # Calling the function that downloads the video\n",
    "\n",
    "\n"
   ]
  },
  {
   "cell_type": "code",
   "execution_count": null,
   "metadata": {},
   "outputs": [],
   "source": [
    "import whisper\n",
    "import torch\n",
    "\n",
    "def transcribe_with_whisper(audio_path):\n",
    "    ''' \n",
    "    This function is used to transcribe the audio file using the whisper model.\n",
    "    \n",
    "    Parameters:\n",
    "    audio_path (str): The path of the audio that will be transcribed\n",
    "    \n",
    "    Returns:\n",
    "    str: The transcribed text\n",
    "    '''\n",
    "    try:\n",
    "        # Load the model\n",
    "        model = whisper.load_model('medium',device='cuda') #Differnt models can be used here i.e 'base', 'small', 'medium', 'large'\n",
    "        result = model.transcribe(audio_path) #Transcribing the audio\n",
    "        transcribed_text = result[\"text\"] #Getting the text from the result\n",
    "        return transcribed_text\n",
    "\n",
    "    except Exception as e:\n",
    "        print(f\"Error during transcription: {e}\")\n",
    "        return \"\"\n",
    "    \n",
    "\n",
    "def format_transcription(text, words_per_line=20):\n",
    "    '''\n",
    "    This function is used to format the transcribed text.\n",
    "    \n",
    "    Parameters:\n",
    "    text (str): The text that will be formatted\n",
    "    words_per_line (int): The number of words per line\n",
    "    \n",
    "    Returns:\n",
    "    str: The formatted text\n",
    "    '''\n",
    "    words = text.split()\n",
    "    formatted_text = \"\" \n",
    "    for i in range(0, len(words), words_per_line): #\n",
    "        formatted_text += ' '.join(words[i:i+words_per_line]) + \"\\n\"\n",
    "    return formatted_text\n",
    "\n",
    "audio_file_path = \"./audios/audio.mp3\"\n",
    "transcription = transcribe_with_whisper(audio_file_path)\n",
    "formatted_transcription = format_transcription(transcription)\n",
    "print(\"Transcription Result:\\n\")\n",
    "print(\"--------------------------------------------------\")\n",
    "print(formatted_transcription)\n",
    "print(\"--------------------------------------------------\")\n"
   ]
  },
  {
   "cell_type": "code",
   "execution_count": null,
   "metadata": {},
   "outputs": [],
   "source": []
  }
 ],
 "metadata": {
  "kernelspec": {
   "display_name": "Python 3",
   "language": "python",
   "name": "python3"
  },
  "language_info": {
   "codemirror_mode": {
    "name": "ipython",
    "version": 3
   },
   "file_extension": ".py",
   "mimetype": "text/x-python",
   "name": "python",
   "nbconvert_exporter": "python",
   "pygments_lexer": "ipython3",
   "version": "3.10.0"
  }
 },
 "nbformat": 4,
 "nbformat_minor": 2
}
