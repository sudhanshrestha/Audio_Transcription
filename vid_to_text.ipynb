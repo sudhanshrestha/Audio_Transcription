{
 "cells": [
  {
   "cell_type": "code",
   "execution_count": null,
   "metadata": {},
   "outputs": [],
   "source": [
    "# the library that will be used for this project.\n",
    "# Use the pip install command to install the library in the terminal\n",
    "\n",
    "# Libaries to install :\n",
    "# pip install pytube\n",
    "# pip install moviepy"
   ]
  },
  {
   "cell_type": "code",
   "execution_count": 9,
   "metadata": {},
   "outputs": [],
   "source": [
    "# Code block that creates the directories required if they don't exist\n",
    "import os\n",
    "# Create the directories if they don't exist\n",
    "output_audio_dir = \"./audios/\"\n",
    "output_vidoe_dir = \"./videos/\"\n",
    "if not os.path.exists(output_audio_dir):\n",
    "    os.makedirs(output_audio_dir)\n",
    "if not os.path.exists(output_vidoe_dir):\n",
    "    os.makedirs(output_vidoe_dir)"
   ]
  },
  {
   "cell_type": "code",
   "execution_count": 6,
   "metadata": {},
   "outputs": [
    {
     "name": "stdout",
     "output_type": "stream",
     "text": [
      "Download successful\n"
     ]
    }
   ],
   "source": [
    "# Code to download the video\n",
    "from pytube import YouTube\n",
    "\n",
    "\n",
    "def download_video(url, output_path):\n",
    "    '''\n",
    "    This function is used to download the video from the youtube.\n",
    "    \n",
    "    Parameters:\n",
    "    url (str): The url of the video that will be downloaded\n",
    "    output_path (str): The path where the video will be saved\n",
    "    \n",
    "    Returns:\n",
    "    None\n",
    "    '''\n",
    "    try:\n",
    "        yt = YouTube(url) # Create a YouTube object\n",
    "        stream = yt.streams.get_highest_resolution() # Get the highest resolution stream\n",
    "        stream.download(output_path) # Download the stream\n",
    "        print(\"Download successful\") \n",
    "    except Exception as e:\n",
    "        print(f\"Failed to download: {e}\")\n",
    "\n",
    "vid_to_download = \"https://www.youtube.com/watch?v=-S9OmJlMRFI\" # This is the video that will be downloaded\n",
    "output_path_video = \"./videos/\" # This is the path where the video will be saved\n",
    "\n",
    "download_video(vid_to_download, output_path_video) # Calling the function that downloads the video\n",
    "\n",
    "\n"
   ]
  },
  {
   "cell_type": "code",
   "execution_count": 10,
   "metadata": {},
   "outputs": [
    {
     "name": "stderr",
     "output_type": "stream",
     "text": [
      "chunk:   1%|          | 24/4564 [01:13<3:51:03,  3.05s/it, now=None]"
     ]
    },
    {
     "name": "stdout",
     "output_type": "stream",
     "text": [
      "MoviePy - Writing audio in ./audios/audio.mp3\n"
     ]
    },
    {
     "name": "stderr",
     "output_type": "stream",
     "text": [
      "chunk:   1%|          | 24/4564 [01:16<4:01:43,  3.19s/it, now=None]"
     ]
    },
    {
     "name": "stdout",
     "output_type": "stream",
     "text": [
      "MoviePy - Done.\n",
      "Audio extraction successful\n"
     ]
    }
   ],
   "source": [
    "# Code to get the audio form the video file\n",
    "\n",
    "from moviepy.editor import VideoFileClip\n",
    "\n",
    "def extract_audio(video_path, audio_path):\n",
    "    '''\n",
    "    This function is used to extract the audio from the video.\n",
    "    \n",
    "    Parameters:\n",
    "    video_path (str): The path of the video that will be extracted\n",
    "    audio_path (str): The path where the audio will be saved\n",
    "    \n",
    "    Returns:\n",
    "    None\n",
    "    '''\n",
    "    video = VideoFileClip(video_path) # Create a VideoFileClip object\n",
    "    audio = video.audio # Extract the audio\n",
    "    audio.write_audiofile(audio_path) # Write the audio to the specified path\n",
    "    print(\"Audio extraction successful\")\n",
    "    \n",
    "path_video = \"./videos/video.mp4\" # differnet path that indicates the video itself\n",
    "output_audio_path = \"./audios/audio.mp3\" # This is the path where the audio will be saved\n",
    "extract_audio(path_video, output_audio_path) # Calling the function that extracts the audio\n"
   ]
  },
  {
   "cell_type": "code",
   "execution_count": null,
   "metadata": {},
   "outputs": [],
   "source": []
  }
 ],
 "metadata": {
  "kernelspec": {
   "display_name": "venv",
   "language": "python",
   "name": "python3"
  },
  "language_info": {
   "codemirror_mode": {
    "name": "ipython",
    "version": 3
   },
   "file_extension": ".py",
   "mimetype": "text/x-python",
   "name": "python",
   "nbconvert_exporter": "python",
   "pygments_lexer": "ipython3",
   "version": "3.12.3"
  }
 },
 "nbformat": 4,
 "nbformat_minor": 2
}
