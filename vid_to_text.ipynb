{
 "cells": [
  {
   "cell_type": "code",
   "execution_count": 55,
   "metadata": {},
   "outputs": [],
   "source": [
    "# the library that will be used for this project.\n",
    "# Use the pip install command to install the library in the terminal\n",
    "\n",
    "# Libaries to install :\n",
    "# pip install pytube\n",
    "# pip install moviepy\n",
    "# pip install SpeechRecognition\n",
    "# pip install pydub\n",
    "# pip install git+https://github.com/openai/whisper.git"
   ]
  },
  {
   "cell_type": "code",
   "execution_count": 56,
   "metadata": {},
   "outputs": [],
   "source": [
    "# Code block that creates the directories required if they don't exist\n",
    "import os\n",
    "# Create the directories if they don't exist\n",
    "output_audio_dir = \"./audios/\"\n",
    "output_vidoe_dir = \"./videos/\"\n",
    "if not os.path.exists(output_audio_dir):\n",
    "    os.makedirs(output_audio_dir)\n",
    "if not os.path.exists(output_vidoe_dir):\n",
    "    os.makedirs(output_vidoe_dir)"
   ]
  },
  {
   "cell_type": "code",
   "execution_count": 57,
   "metadata": {},
   "outputs": [
    {
     "name": "stderr",
     "output_type": "stream",
     "text": [
      "  0%|          | 0/44 [00:00<?, ?it/s]"
     ]
    },
    {
     "name": "stdout",
     "output_type": "stream",
     "text": [
      "Download successful\n"
     ]
    },
    {
     "name": "stderr",
     "output_type": "stream",
     "text": [
      "\n"
     ]
    }
   ],
   "source": [
    "# Code to download the video\n",
    "from pytube import YouTube\n",
    "from tqdm import tqdm  \n",
    "\n",
    "def download_video(url, output_path):\n",
    "    '''\n",
    "    This function is used to download the video from the youtube.\n",
    "    \n",
    "    Parameters:\n",
    "    url (str): The url of the video that will be downloaded\n",
    "    output_path (str): The path where the video will be saved\n",
    "    \n",
    "    Returns:\n",
    "    None\n",
    "    '''\n",
    "    try:\n",
    "        audiofilename = \"audio.mp3\"\n",
    "        yt = YouTube(url) # Create a YouTube object\n",
    "        stream =  yt.streams.filter(only_audio=True).first() # Get the highest resolution stream\n",
    "        tqdm(stream.download(output_path=output_path, filename=audiofilename)) # Download the stream\n",
    "        print(\"Download successful\") \n",
    "    except Exception as e:\n",
    "        print(f\"Failed to download: {e}\")\n",
    "\n",
    "# vid_to_download = \"https://www.youtube.com/watch?v=-S9OmJlMRFI\" # This is the video that will be downloaded\n",
    "vid_to_download = input(\"Enter the url of the video that you want to download: \")\n",
    "\n",
    "output_path_video = \"./audios/\" # This is the path where the video will be saved\n",
    "\n",
    "download_video(vid_to_download, output_path_video) # Calling the function that downloads the video\n",
    "\n",
    "\n"
   ]
  },
  {
   "cell_type": "code",
   "execution_count": 65,
   "metadata": {},
   "outputs": [
    {
     "name": "stdout",
     "output_type": "stream",
     "text": [
      "Transcription Result:\n",
      "\n",
      "--------------------------------------------------\n",
      "Every night in my dreams I see you I feel you, that is how I know you Go on Far\n",
      "across the distance and spaces between us You have come to show you, go on Near, far, wherever you are\n",
      "I believe that the heart does go on Once more, you open the door And you're here in my heart\n",
      "and My heart will go on and on Love can last just one time And last for a lifetime And\n",
      "never let go till we're gone Love was when I loved you One true time I hold you In my\n",
      "life will always go on Near, far, wherever you are I believe that the heart does go on Once more,\n",
      "you open the door And you're here in my heart and My heart will go on and on You're here,\n",
      "there's nothing I fear And I know that my heart will go on We'll stay forever this way You are\n",
      "safe in my heart and My heart will go on and on Ooh\n",
      "\n",
      "--------------------------------------------------\n"
     ]
    }
   ],
   "source": [
    "import whisper\n",
    "''' \n",
    "The perforamnce of the model can be increased by using the larger models out of all the models 'base', 'small', 'medium', 'large'\n",
    "The quality of the transcription can be increased by using the larger models similaryly\n",
    "Uisng the base model gives ok results but the quality is not good\n",
    "\n",
    "Starting with the MEDIUM model the processing time may vary for me it took around 4mins for me to get the results for a 4:45 min audio file/video.\n",
    "\n",
    "'''\n",
    "\n",
    "def transcribe_with_whisper(audio_path):\n",
    "    ''' \n",
    "    This function is used to transcribe the audio file using the whisper model.\n",
    "    \n",
    "    Parameters:\n",
    "    audio_path (str): The path of the audio that will be transcribed\n",
    "    \n",
    "    Returns:\n",
    "    str: The transcribed text\n",
    "    '''\n",
    "    try:\n",
    "        # Load the model\n",
    "        model = whisper.load_model('medium') #Differnt models can be used here i.e 'base', 'small', 'medium', 'large'\n",
    "        result = model.transcribe(audio_path) #Transcribing the audio\n",
    "        transcribed_text = result[\"text\"] #Getting the text from the result\n",
    "        return transcribed_text\n",
    "\n",
    "    except Exception as e:\n",
    "        print(f\"Error during transcription: {e}\")\n",
    "        return \"\"\n",
    "\n",
    "def format_transcription(text, words_per_line=20):\n",
    "    '''\n",
    "    This function is used to format the transcribed text.\n",
    "    \n",
    "    Parameters:\n",
    "    text (str): The text that will be formatted\n",
    "    words_per_line (int): The number of words per line\n",
    "    \n",
    "    Returns:\n",
    "    str: The formatted text\n",
    "    '''\n",
    "    words = text.split()\n",
    "    formatted_text = \"\" \n",
    "    for i in range(0, len(words), words_per_line): #\n",
    "        formatted_text += ' '.join(words[i:i+words_per_line]) + \"\\n\"\n",
    "    return formatted_text\n",
    "\n",
    "audio_file_path = \"./audios/audio.mp3\"\n",
    "transcription = transcribe_with_whisper(audio_file_path)\n",
    "formatted_transcription = format_transcription(transcription)\n",
    "print(\"Transcription Result:\\n\")\n",
    "print(\"--------------------------------------------------\")\n",
    "print(formatted_transcription)\n",
    "print(\"--------------------------------------------------\")\n"
   ]
  },
  {
   "cell_type": "code",
   "execution_count": null,
   "metadata": {},
   "outputs": [],
   "source": []
  }
 ],
 "metadata": {
  "kernelspec": {
   "display_name": "venv",
   "language": "python",
   "name": "python3"
  },
  "language_info": {
   "codemirror_mode": {
    "name": "ipython",
    "version": 3
   },
   "file_extension": ".py",
   "mimetype": "text/x-python",
   "name": "python",
   "nbconvert_exporter": "python",
   "pygments_lexer": "ipython3",
   "version": "3.12.3"
  }
 },
 "nbformat": 4,
 "nbformat_minor": 2
}
