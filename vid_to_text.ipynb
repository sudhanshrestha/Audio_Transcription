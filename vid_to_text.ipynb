{
 "cells": [
  {
   "cell_type": "code",
   "execution_count": 1,
   "metadata": {},
   "outputs": [],
   "source": [
    "# the library that will be used for this project.\n",
    "# Use the pip install command to install the library in the terminal\n",
    "\n",
    "# Libaries to install :\n",
    "# pip install pytube\n",
    "# pip install moviepy\n",
    "# pip install SpeechRecognition\n",
    "# pip install pydub\n",
    "# pip install git+https://github.com/openai/whisper.git"
   ]
  },
  {
   "cell_type": "code",
   "execution_count": 2,
   "metadata": {},
   "outputs": [],
   "source": [
    "# Code block that creates the directories required if they don't exist\n",
    "import os\n",
    "# Create the directories if they don't exist\n",
    "output_audio_dir = \"./audios/\"\n",
    "output_vidoe_dir = \"./videos/\"\n",
    "if not os.path.exists(output_audio_dir):\n",
    "    os.makedirs(output_audio_dir)\n",
    "if not os.path.exists(output_vidoe_dir):\n",
    "    os.makedirs(output_vidoe_dir)"
   ]
  },
  {
   "cell_type": "code",
   "execution_count": 6,
   "metadata": {},
   "outputs": [
    {
     "name": "stdout",
     "output_type": "stream",
     "text": [
      "Download successful\n"
     ]
    }
   ],
   "source": [
    "# Code to download the video\n",
    "from pytube import YouTube\n",
    "\n",
    "\n",
    "def download_video(url, output_path):\n",
    "    '''\n",
    "    This function is used to download the video from the youtube.\n",
    "    \n",
    "    Parameters:\n",
    "    url (str): The url of the video that will be downloaded\n",
    "    output_path (str): The path where the video will be saved\n",
    "    \n",
    "    Returns:\n",
    "    None\n",
    "    '''\n",
    "    try:\n",
    "        yt = YouTube(url) # Create a YouTube object\n",
    "        stream = yt.streams.get_highest_resolution() # Get the highest resolution stream\n",
    "        stream.download(output_path) # Download the stream\n",
    "        print(\"Download successful\") \n",
    "    except Exception as e:\n",
    "        print(f\"Failed to download: {e}\")\n",
    "\n",
    "vid_to_download = \"https://www.youtube.com/watch?v=-S9OmJlMRFI\" # This is the video that will be downloaded\n",
    "output_path_video = \"./videos/\" # This is the path where the video will be saved\n",
    "\n",
    "download_video(vid_to_download, output_path_video) # Calling the function that downloads the video\n",
    "\n",
    "\n"
   ]
  },
  {
   "cell_type": "code",
   "execution_count": 27,
   "metadata": {},
   "outputs": [
    {
     "name": "stderr",
     "output_type": "stream",
     "text": [
      "chunk:   1%|          | 24/4564 [42:19<133:27:30, 105.83s/it, now=None]"
     ]
    },
    {
     "name": "stdout",
     "output_type": "stream",
     "text": [
      "MoviePy - Writing audio in ./audios/audio.mp3\n"
     ]
    },
    {
     "name": "stderr",
     "output_type": "stream",
     "text": [
      "chunk:   1%|          | 24/4564 [42:23<133:38:29, 105.97s/it, now=None]"
     ]
    },
    {
     "name": "stdout",
     "output_type": "stream",
     "text": [
      "MoviePy - Done.\n",
      "Audio extraction successful\n"
     ]
    }
   ],
   "source": [
    "# Code to get the audio form the video file\n",
    "\n",
    "from moviepy.editor import VideoFileClip\n",
    "\n",
    "def extract_audio(video_path, audio_path):\n",
    "    '''\n",
    "    This function is used to extract the audio from the video.\n",
    "    \n",
    "    Parameters:\n",
    "    video_path (str): The path of the video that will be extracted\n",
    "    audio_path (str): The path where the audio will be saved\n",
    "    \n",
    "    Returns:\n",
    "    None\n",
    "    '''\n",
    "    video = VideoFileClip(video_path) # Create a VideoFileClip object\n",
    "    audio = video.audio # Extract the audio\n",
    "    audio.write_audiofile(audio_path) # Write the audio to the specified path\n",
    "    print(\"Audio extraction successful\")\n",
    "    \n",
    "path_video = \"./videos/video.mp4\" # differnet path that indicates the video itself\n",
    "output_audio_path = \"./audios/audio.mp3\" # This is the path where the audio will be saved\n",
    "extract_audio(path_video, output_audio_path) # Calling the function that extracts the audio\n"
   ]
  },
  {
   "cell_type": "code",
   "execution_count": 10,
   "metadata": {},
   "outputs": [
    {
     "name": "stderr",
     "output_type": "stream",
     "text": [
      "Transcribing Chunks: 100%|██████████| 21/21 [01:03<00:00,  3.02s/it]"
     ]
    },
    {
     "name": "stdout",
     "output_type": "stream",
     "text": [
      "뭐.. 멋있다oi 노래いや 이렇게 화를 다 arrived 이 곡은 너무 멋있 TS approached\n",
      " 😍\n",
      " It's not a silly little moment.\n",
      " It's not storm for the car This is a deep and time breath I It's all that we've worked in our end\n",
      " Getting no more to lack of one too So I can feel you in my arms But it's gonna come and save\n",
      " you, where Voldemort's a man who follows the lives we're going down. You can see it.\n",
      " We're going down and in order we're doing the magic\n",
      " You were so dancing in the burning room\n",
      " I'm going to do a little bit of a little bit of a little bit of a little bit of a little bit of a little bit of a little bit of a little bit of a little bit of a little bit of a little bit of a little bit of a little bit of a little bit of a little bit of a little bit of a little bit of a little bit of a little bit of a little bit of a little bit of a little bit of a little bit of a little bit of a little bit of a little bit of a little bit of a little bit of a little bit of a little bit of a little bit of a little bit of a little bit of a little bit of a little bit of a little bit of a little bit of a little bit of a little bit of a little bit of a little bit of a little bit of a little bit of a little bit of a little bit of a little bit of a little bit of a little bit of a little bit of a little bit of a little bit of a little bit of a little bit of a little bit of a little\n",
      " I was the one you always dreamed of You were the one tried to try A day's say is nothing to\n",
      " You'll be a jerk.\n",
      " Cause you can't You try to be the service so you'll even feel and die Cause you can't understand We're grown up\n",
      " You can see it too, wake up down\n",
      " And you know that we're doomed My dear, we're so dancing and I burn and we're...\n",
      "\n",
      "\n",
      " Don't you think we ought to know about now?\n",
      " I think we should have learned so well Just think we gotta know by now Don't think we should learn so well\n",
      " Don't think we had no one now Don't think we should learn so much And my dear, so...\n",
      " Dancing reminds me\n"
     ]
    },
    {
     "name": "stderr",
     "output_type": "stream",
     "text": [
      "\n"
     ]
    }
   ],
   "source": [
    "import whisper\n",
    "from pydub import AudioSegment\n",
    "import os\n",
    "from tqdm import tqdm  # Import tqdm for the progress bar\n",
    "\n",
    "def transcribe_with_whisper(audio_path, model_size=\"tiny\"):\n",
    "    try:\n",
    "        # Load the model\n",
    "        model = whisper.load_model(model_size)\n",
    "\n",
    "        # Ensure the temporary directory exists\n",
    "        temp_dir = \"./temp/\"\n",
    "        if not os.path.exists(temp_dir):\n",
    "            os.makedirs(temp_dir)\n",
    "\n",
    "        # Splitting the audio into 10-second chunks\n",
    "        audio = AudioSegment.from_mp3(audio_path)\n",
    "        chunks = make_chunks(audio, 10000)  # 10-second chunks\n",
    "\n",
    "        full_transcription = []\n",
    "        for i, chunk in tqdm(enumerate(chunks), total=len(chunks), desc=\"Transcribing Chunks\"):\n",
    "            # Export chunk to temporary file\n",
    "            chunk_file = f\"{temp_dir}chunk{i}.mp3\"\n",
    "            chunk.export(chunk_file, format=\"mp3\")\n",
    "\n",
    "            # Transcribe the chunk\n",
    "            result = model.transcribe(chunk_file)\n",
    "            full_transcription.append(result[\"text\"])\n",
    "\n",
    "        # Join all transcribed text with line breaks for better readability\n",
    "        return \"\\n\".join(full_transcription).strip()\n",
    "    except Exception as e:\n",
    "        print(f\"Error during transcription: {e}\")\n",
    "        return \"\"\n",
    "\n",
    "def make_chunks(audio, chunk_length_ms):\n",
    "    # This function splits the audio into chunks of specified length in milliseconds\n",
    "    return [audio[i:i + chunk_length_ms] for i in range(0, len(audio), chunk_length_ms)]\n",
    "\n",
    "audio_file_path = \"./audios/audio.mp3\"\n",
    "transcription = transcribe_with_whisper(audio_file_path, \"tiny\")\n",
    "print(transcription)"
   ]
  }
 ],
 "metadata": {
  "kernelspec": {
   "display_name": "venv",
   "language": "python",
   "name": "python3"
  },
  "language_info": {
   "codemirror_mode": {
    "name": "ipython",
    "version": 3
   },
   "file_extension": ".py",
   "mimetype": "text/x-python",
   "name": "python",
   "nbconvert_exporter": "python",
   "pygments_lexer": "ipython3",
   "version": "3.12.3"
  }
 },
 "nbformat": 4,
 "nbformat_minor": 2
}
