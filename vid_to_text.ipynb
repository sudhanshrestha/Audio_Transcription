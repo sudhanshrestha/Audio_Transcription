{
 "cells": [
  {
   "cell_type": "code",
   "execution_count": null,
   "metadata": {},
   "outputs": [],
   "source": [
    "# the library that will be used for this project.\n",
    "# Use the pip install command to install the library in the terminal\n",
    "\n",
    "# Libaries to install :\n",
    "# pip install pytube\n",
    "# pip install moviepy"
   ]
  },
  {
   "cell_type": "code",
   "execution_count": 2,
   "metadata": {},
   "outputs": [],
   "source": [
    "from pytube import YouTube\n"
   ]
  },
  {
   "cell_type": "code",
   "execution_count": 3,
   "metadata": {},
   "outputs": [
    {
     "name": "stdout",
     "output_type": "stream",
     "text": [
      "Download successful\n"
     ]
    }
   ],
   "source": [
    "def download_video(url, output_path):\n",
    "    '''\n",
    "    This function is used to download the video from the youtube.\n",
    "    \n",
    "    Parameters:\n",
    "    url (str): The url of the video that will be downloaded\n",
    "    output_path (str): The path where the video will be saved\n",
    "    \n",
    "    Returns:\n",
    "    None\n",
    "    '''\n",
    "    try:\n",
    "        yt = YouTube(url) # Create a YouTube object\n",
    "        stream = yt.streams.get_highest_resolution() # Get the highest resolution stream\n",
    "        stream.download(output_path) # Download the stream\n",
    "        print(\"Download successful\") \n",
    "    except Exception as e:\n",
    "        print(f\"Failed to download: {e}\")\n",
    "\n",
    "vid_to_download = \"https://www.youtube.com/watch?v=-S9OmJlMRFI\" # This is the video that will be downloaded\n",
    "output_path = \"./videos/\" # This is the path where the video will be saved\n",
    "\n",
    "download_video(vid_to_download, output_path) # Calling the function that downloads the video\n",
    "\n",
    "\n"
   ]
  },
  {
   "cell_type": "code",
   "execution_count": null,
   "metadata": {},
   "outputs": [],
   "source": []
  }
 ],
 "metadata": {
  "kernelspec": {
   "display_name": "venv",
   "language": "python",
   "name": "python3"
  },
  "language_info": {
   "codemirror_mode": {
    "name": "ipython",
    "version": 3
   },
   "file_extension": ".py",
   "mimetype": "text/x-python",
   "name": "python",
   "nbconvert_exporter": "python",
   "pygments_lexer": "ipython3",
   "version": "3.12.3"
  }
 },
 "nbformat": 4,
 "nbformat_minor": 2
}
